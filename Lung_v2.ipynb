{
  "nbformat": 4,
  "nbformat_minor": 0,
  "metadata": {
    "colab": {
      "name": "Lung.ipynb",
      "provenance": [],
      "collapsed_sections": []
    },
    "kernelspec": {
      "display_name": "Python 3",
      "name": "python3"
    },
    "language_info": {
      "name": "python"
    },
    "accelerator": "TPU"
  },
  "cells": [
    {
      "cell_type": "code",
      "metadata": {
        "id": "3Q9Gkg-P0uQz"
      },
      "source": [
        "!pip install -U -q PyDrive\n",
        "from pydrive.auth import GoogleAuth\n",
        "from pydrive.drive import GoogleDrive\n",
        "from google.colab import auth \n",
        "from oauth2client.client import GoogleCredentials"
      ],
      "execution_count": null,
      "outputs": []
    },
    {
      "cell_type": "code",
      "metadata": {
        "id": "bcwivOQd0zej"
      },
      "source": [
        "auth.authenticate_user()\n",
        "gauth = GoogleAuth()\n",
        "gauth.credentials = GoogleCredentials.get_application_default()\n",
        "drive = GoogleDrive(gauth)\n"
      ],
      "execution_count": null,
      "outputs": []
    },
    {
      "cell_type": "code",
      "metadata": {
        "colab": {
          "base_uri": "https://localhost:8080/"
        },
        "id": "_iuf_SVr0zhj",
        "outputId": "1a7d74b8-aef5-4997-f8e5-e11f3bff2af1"
      },
      "source": [
        "from google.colab import drive\n",
        "drive.mount('/content/ym')"
      ],
      "execution_count": null,
      "outputs": [
        {
          "output_type": "stream",
          "name": "stdout",
          "text": [
            "Mounted at /content/ym\n"
          ]
        }
      ]
    },
    {
      "cell_type": "markdown",
      "metadata": {
        "id": "viekBPxt0-Lw"
      },
      "source": [
        "**Memory footprint support libraries/code**"
      ]
    },
    {
      "cell_type": "code",
      "metadata": {
        "id": "dXg-hwXG0znB"
      },
      "source": [
        "!ln -sf /opt/bin/nvidia-smi /usr/bin/nvidia-smi\n",
        "!pip install gputil\n",
        "!pip install psutil\n",
        "!pip install humanize\n",
        "import psutil\n",
        "import humanize\n",
        "import os\n",
        "import GPUtil as GPU\n",
        "GPUs = GPU.getGPUs()\n",
        "\n",
        "# XXX: only one GPU on Colab and isn’t guaranteed\n",
        "\n",
        "gpu = GPUs[0]\n",
        "def printm():\n",
        " process = psutil.Process(os.getpid())\n",
        " print(\"Gen RAM Free: \" + humanize.naturalsize( psutil.virtual_memory().available ), \" | Proc size: \" + humanize.naturalsize( process.memory_info().rss))\n",
        " print(\"GPU RAM Free: {0:.0f}MB | Used: {1:.0f}MB | Util {2:3.0f}% | Total {3:.0f}MB\".format(gpu.memoryFree, gpu.memoryUsed, gpu.memoryUtil*100, gpu.memoryTotal))\n",
        "printm()"
      ],
      "execution_count": null,
      "outputs": []
    },
    {
      "cell_type": "markdown",
      "metadata": {
        "id": "T3nHP4y81K1y"
      },
      "source": [
        "**To avoid colab 30/90 mins interruption**"
      ]
    },
    {
      "cell_type": "code",
      "metadata": {
        "id": "iWief_yd1CBZ",
        "colab": {
          "base_uri": "https://localhost:8080/",
          "height": 53
        },
        "outputId": "2178a66e-6301-4d7e-d885-49e9140d03ec"
      },
      "source": [
        "\n",
        "\n",
        "'''\n",
        "function ClickConnect(){\n",
        "\n",
        "console.log(\"Working\");\n",
        "\n",
        "document.querySelector(\"colab-toolbar-button#connect\").click()\n",
        "\n",
        "}\n",
        "\n",
        "setInterval(ClickConnect,60000)\n",
        "\n",
        "'''\n"
      ],
      "execution_count": null,
      "outputs": [
        {
          "output_type": "execute_result",
          "data": {
            "text/plain": [
              "'\\nfunction ClickConnect(){\\n\\nconsole.log(\"Working\");\\n\\ndocument.querySelector(\"colab-toolbar-button#connect\").click()\\n\\n}\\n\\nsetInterval(ClickConnect,60000)\\n\\n'"
            ],
            "application/vnd.google.colaboratory.intrinsic+json": {
              "type": "string"
            }
          },
          "metadata": {},
          "execution_count": 6
        }
      ]
    },
    {
      "cell_type": "markdown",
      "metadata": {
        "id": "9gfqlzncGRf6"
      },
      "source": [
        "**Experiment **"
      ]
    },
    {
      "cell_type": "code",
      "metadata": {
        "colab": {
          "base_uri": "https://localhost:8080/"
        },
        "id": "3usTVmbk1PJz",
        "outputId": "678b22a3-2a2c-4e33-84ef-814488dc76b3"
      },
      "source": [
        "!pip install SimpleITK"
      ],
      "execution_count": null,
      "outputs": [
        {
          "output_type": "stream",
          "name": "stdout",
          "text": [
            "Collecting SimpleITK\n",
            "  Downloading SimpleITK-2.1.1.1.tar.gz (2.0 MB)\n",
            "\u001b[K     |████████████████████████████████| 2.0 MB 4.7 MB/s \n",
            "\u001b[?25h  Installing build dependencies ... \u001b[?25l\u001b[?25hdone\n",
            "  Getting requirements to build wheel ... \u001b[?25l\u001b[?25hdone\n",
            "    Preparing wheel metadata ... \u001b[?25l\u001b[?25hdone\n",
            "Building wheels for collected packages: SimpleITK\n"
          ]
        }
      ]
    },
    {
      "cell_type": "code",
      "metadata": {
        "id": "nNGDwQ5F1Sdy"
      },
      "source": [
        "import SimpleITK as sitk\n",
        "import numpy as np\n",
        "import matplotlib.pyplot as plt\n",
        "\n",
        "\n",
        "path = '/content/ym/MyDrive/Colab Notebooks/Subject/1.3.6.1.4.1.14519.5.2.1.6279.6001.226456162308124493341905600418.mhd'\n",
        "\n",
        "\n",
        "\n",
        "itk_image = sitk.ReadImage(path,sitk.sitkFloat32)\n",
        "image_array = sitk.GetArrayViewFromImage(itk_image)\n",
        "\n",
        "print(image_array)\n",
        "print('fgffgtrfhgtrh')\n",
        "\n",
        "ct_scan = sitk.GetArrayFromImage(itk_image)\n",
        "print(ct_scan)\n",
        "\n",
        "# print the image's dimensions\n",
        "print(image_array.shape)\n",
        "print(image_array.ndim)\n",
        "print(image_array.dtype)\n",
        "\n",
        "# print the image's dimensions\n",
        "print(ct_scan.shape)\n",
        "print(ct_scan.max())\n",
        "print(ct_scan.dtype)\n",
        "\n"
      ],
      "execution_count": null,
      "outputs": []
    },
    {
      "cell_type": "markdown",
      "metadata": {
        "id": "E__W9Rw7CvYC"
      },
      "source": [
        "Show 3d images using matplotlib "
      ]
    },
    {
      "cell_type": "code",
      "metadata": {
        "id": "le501NWGAksr"
      },
      "source": [
        "def myshow(img, title=None, margin=0.05, dpi=80 ):\n",
        "    nda = sitk.GetArrayFromImage(img)\n",
        "    spacing = img.GetSpacing()\n",
        "    \n",
        "    \n",
        "    if nda.ndim == 3:\n",
        "        # fastest dim, either component or x\n",
        "        c = nda.shape[-1]\n",
        "        \n",
        "        # the the number of components is 3 or 4 consider it an RGB image\n",
        "        if not c in (3,4):\n",
        "            nda = nda[nda.shape[0]//2,:,:]\n",
        "    \n",
        "    elif nda.ndim == 4:\n",
        "        c = nda.shape[-1]\n",
        "        \n",
        "        if not c in (3,4):\n",
        "            raise Runtime(\"Unable to show 3D-vector Image\")\n",
        "            \n",
        "        # take a z-slice\n",
        "        nda = nda[nda.shape[0]//2,:,:,:]\n",
        "            \n",
        "    ysize = nda.shape[0]\n",
        "    xsize = nda.shape[1]\n",
        "   \n",
        "    \n",
        "    # Make a figure big enough to accomodate an axis of xpixels by ypixels\n",
        "    # as well as the ticklabels, etc...\n",
        "    figsize = (1 + margin) * ysize / dpi, (1 + margin) * xsize / dpi\n",
        "\n",
        "    fig = plt.figure(figsize=figsize, dpi=dpi)\n",
        "    # Make the axis the right size...\n",
        "    ax = fig.add_axes([margin, margin, 1 - 2*margin, 1 - 2*margin])\n",
        "    \n",
        "    extent = (0, xsize*spacing[1], ysize*spacing[0], 0)\n",
        "    \n",
        "    t = ax.imshow(nda,extent=extent,interpolation=None)\n",
        "    \n",
        "    if nda.ndim == 2:\n",
        "        t.set_cmap(\"gray\")\n",
        "    \n",
        "    if(title):\n",
        "        plt.title(title)"
      ],
      "execution_count": null,
      "outputs": []
    },
    {
      "cell_type": "code",
      "metadata": {
        "id": "yobeB7OPAneq"
      },
      "source": [
        "img1_seg = sitk.ReadImage(path)"
      ],
      "execution_count": null,
      "outputs": []
    },
    {
      "cell_type": "code",
      "metadata": {
        "id": "q2Uvv6OKDpJj"
      },
      "source": [
        "myshow(img1_seg, \"Label Image as Grayscale\")"
      ],
      "execution_count": null,
      "outputs": []
    },
    {
      "cell_type": "code",
      "metadata": {
        "id": "36H9tbreDnf1"
      },
      "source": [
        "myshow(sitk.LabelToRGB(img1_seg), title=\"Label Image as RGB\")"
      ],
      "execution_count": null,
      "outputs": []
    },
    {
      "cell_type": "code",
      "metadata": {
        "id": "i3gsfj2GaZuc"
      },
      "source": [
        "def showImage(nda, spacing, title=None, margin=0.05, dpi=80 ):\n",
        "    nda = nda\n",
        "    spacing = spacing\n",
        "    if nda.ndim == 3:\n",
        "        # fastest dim, either component or x\n",
        "        c = nda.shape[-1]\n",
        "        \n",
        "        # the the number of components is 3 or 4 consider it an RGB image\n",
        "        if not c in (3,4):\n",
        "            nda = nda[nda.shape[0]//2,:,:]\n",
        "    \n",
        "    elif nda.ndim == 4:\n",
        "        c = nda.shape[-1]\n",
        "        \n",
        "        if not c in (3,4):\n",
        "            raise Runtime(\"Unable to show 3D-vector Image\")\n",
        "            \n",
        "        # take a z-slice\n",
        "        nda = nda[nda.shape[0]//2,:,:,:]\n",
        "            \n",
        "    ysize = nda.shape[0]\n",
        "    xsize = nda.shape[1]\n",
        "   \n",
        "    \n",
        "    # Make a figure big enough to accomodate an axis of xpixels by ypixels\n",
        "    # as well as the ticklabels, etc...\n",
        "    figsize = (1 + margin) * ysize / dpi, (1 + margin) * xsize / dpi\n",
        "\n",
        "    fig = plt.figure(figsize=figsize, dpi=dpi)\n",
        "    # Make the axis the right size...\n",
        "    ax = fig.add_axes([margin, margin, 1 - 2*margin, 1 - 2*margin])\n",
        "    \n",
        "    extent = (0, xsize*spacing[1], ysize*spacing[0], 0)\n",
        "    \n",
        "    t = ax.imshow(nda,extent=extent,interpolation=None)\n",
        "    \n",
        "    if nda.ndim == 2:\n",
        "        t.set_cmap(\"gray\")\n",
        "    \n",
        "    if(title):\n",
        "        plt.title(title)"
      ],
      "execution_count": null,
      "outputs": []
    },
    {
      "cell_type": "code",
      "metadata": {
        "id": "s1mhOvKPZsxS"
      },
      "source": [
        "from glob import glob\n",
        "import os\n",
        "import pandas as pd\n",
        "import numpy as np\n",
        "import matplotlib.pyplot as plt\n"
      ],
      "execution_count": null,
      "outputs": []
    },
    {
      "cell_type": "code",
      "metadata": {
        "id": "DRorngXJZs0v"
      },
      "source": [
        "def load_images_with_itk(filename):\n",
        "\n",
        "    itkimage = sitk.ReadImage(filename)\n",
        "    \n",
        "    np_image = sitk.GetArrayFromImage(itkimage)\n",
        "    \n",
        "    origin = np.array(list(reversed(itkimage.GetOrigin())))\n",
        "    \n",
        "    spacing = np.array(list(reversed(itkimage.GetSpacing())))\n",
        "    \n",
        "    return np_image, origin, spacing"
      ],
      "execution_count": null,
      "outputs": []
    },
    {
      "cell_type": "markdown",
      "metadata": {
        "id": "CoYr4Zc5HfYu"
      },
      "source": [
        "#Center : centers of circles px -- list of coordinates x,y,z\n",
        "#diam : diameters of circles px -- diameter\n",
        "#widthXheight : pixel dim of image\n",
        "#spacing = mm/px conversion rate np array x,y,z\n",
        "#origin = x,y,z mm np.array\n",
        "#z = z position of slice in world coordinates mm\n",
        "    "
      ]
    },
    {
      "cell_type": "code",
      "metadata": {
        "id": "6KPUwWfCE6cf"
      },
      "source": [
        "def make_mask(center,diam,z,width,height,spacing,origin):\n",
        "\n",
        "    print('in make mask ......center', center)\n",
        "    print('in make mask ......diameter',diam)\n",
        "    print('in  make mask ......z ', z)\n",
        "    print('in make mask ......width', width)\n",
        "    print('in make mask ......height', height)\n",
        "    print('in make mask ......spacing', spacing)\n",
        "    print('in  make mask ......origin', origin)\n",
        "\n",
        "\n",
        "    mask = np.zeros([height,width]) # 0's everywhere except nodule swapping x,y to match img\n",
        "\n",
        "    #convert to nodule space from world coordinates\n",
        "\n",
        "    # Defining the voxel range in which the nodule falls\n",
        "    v_center = (center-origin)/spacing\n",
        "    v_diam = int(diam/spacing[0]+5)\n",
        "    v_xmin = np.max([0,int(v_center[0]-v_diam)-5])\n",
        "    v_xmax = np.min([width-1,int(v_center[0]+v_diam)+5])\n",
        "    v_ymin = np.max([0,int(v_center[1]-v_diam)-5])\n",
        "    v_ymax = np.min([height-1,int(v_center[1]+v_diam)+5])\n",
        "\n",
        "    v_xrange = range(v_xmin,v_xmax+1)\n",
        "    v_yrange = range(v_ymin,v_ymax+1)\n",
        "\n",
        "    # Convert back to world coordinates for distance calculation\n",
        "    x_data = [x*spacing[0]+origin[0] for x in range(width)]\n",
        "    y_data = [x*spacing[1]+origin[1] for x in range(height)]\n",
        "\n",
        "    # Fill in 1 within sphere around nodule\n",
        "    for v_x in v_xrange:\n",
        "        for v_y in v_yrange:\n",
        "            p_x = spacing[0]*v_x + origin[0]\n",
        "            #print('p_x===', p_x, 'origin [0]===',origin[0])\n",
        "\n",
        "            p_y = spacing[1]*v_y + origin[1]\n",
        "            #print('p_y===',p_y,'origin [1]===',origin[1])\n",
        "\n",
        "            if np.linalg.norm(center-np.array([p_x,p_y,z]))<=diam:\n",
        "                mask[int((p_y-origin[1])/spacing[1]),int((p_x-origin[0])/spacing[0])] = 1.0\n",
        "                #print(' n hmjlkjlvllvlu   ', mask.shape)\n",
        "    return(mask)"
      ],
      "execution_count": null,
      "outputs": []
    },
    {
      "cell_type": "code",
      "metadata": {
        "id": "euIxBFJCMYQS"
      },
      "source": [
        "def normalizePlanes(npzarray):\n",
        "    maxHU = 400\n",
        "    minHU = -1000 \n",
        "    npzarray = (npzarray - minHU) / (maxHU - minHU)\n",
        "    npzarray[npzarray>1] = 1.\n",
        "    npzarray[npzarray<0] = 0.\n",
        "    npzarray *= 255\n",
        "    return npzarray.astype(int)"
      ],
      "execution_count": null,
      "outputs": []
    },
    {
      "cell_type": "markdown",
      "metadata": {
        "id": "chDp6pgjN0_K"
      },
      "source": [
        "Using annotation.csv file"
      ]
    },
    {
      "cell_type": "code",
      "metadata": {
        "id": "cOjxiF40JORU"
      },
      "source": [
        "csv='/content/ym/MyDrive/Colab Notebooks/Subject/annotations.csv'\n",
        "dir='/content/ym/MyDrive/Colab Notebooks/Subject/'\n",
        "\n",
        "file_list = glob(dir +\"*.mhd\")\n",
        "\n",
        "def get_filename(file_list, case):\n",
        "    for f in file_list:\n",
        "        if case in f:\n",
        "           print('ffff  ', f)\n",
        "           return(f)\n",
        "\n",
        "print ('reading csv...')\n",
        "df_anno = pd.read_csv(csv)\n",
        "print('After reading  ', df_anno)\n",
        "df_anno[\"file\"] = df_anno[\"seriesuid\"].map(lambda file_name: get_filename(file_list, file_name))\n",
        "print('After mapping   ',df_anno)\n",
        "print('After mapping ---- coordinate X   ',df_anno['coordX'])\n",
        "print('After mapping ---- file   ',df_anno['file'])\n",
        "df_anno = df_anno.dropna()\n",
        "print('After dropna ---- coordinate x   ',df_anno['coordX'])\n",
        "print('After dropna ------ File  ',df_anno['file'])\n",
        "print('After dropna ------ df  ',df_anno)\n",
        "\n"
      ],
      "execution_count": null,
      "outputs": []
    },
    {
      "cell_type": "code",
      "metadata": {
        "id": "GnxHyyP8WVSF"
      },
      "source": [
        "def images_with_masks(path):\n",
        "   \n",
        "    out_images = '/content/ym/MyDrive/Colab Notebooks/Output/Output_images/'\n",
        "    out_masks  = '/content/ym/MyDrive/Colab Notebooks/Output/Output_masks/'\n",
        "    \n",
        "    for filename in os.listdir(path):\n",
        "       print('path for folder >>>>>', path)\n",
        "       \n",
        "       if filename.endswith(\"mhd\"):\n",
        "          url = path + filename\n",
        "          print('path for image >>>>', url)\n",
        "           \n",
        "          print(' df =======  ', df_anno.head(4))\n",
        "          print(' df file =======  ', df_anno['file'].head(4))\n",
        "\n",
        "          mini_df = df_anno.loc[df_anno['file']== url] #get all nodules associate with file\n",
        "          print('mini df =======  ', mini_df.head(6))\n",
        "\n",
        "   \n",
        "          #Images \n",
        "          img, origin, spacing = load_images_with_itk(url)\n",
        "          num_z, height, width = img.shape\n",
        "\n",
        "          print('img shape ,,,,,,',img.shape, num_z, height, width)\n",
        "\n",
        "          print ('img array', img)\n",
        "          \n",
        "        \n",
        "          #images[img] = images\n",
        "          #print('images after adding img ,,,,,,',images)\n",
        " \n",
        "          #plt.subplot(1,2,1)\n",
        "          #showImage(img,spacing,\"Label Image as Grayscale\")\n",
        "\n",
        "\n",
        "          # Masks\n",
        "          for node_idx, cur_row in mini_df.iterrows():\n",
        "              node_x = cur_row[\"coordX\"]\n",
        "              node_y = cur_row[\"coordY\"]\n",
        "              node_z = cur_row[\"coordZ\"]\n",
        "              diam   = cur_row[\"diameter_mm\"]\n",
        "          \n",
        "\n",
        "              print(' X....... ', node_x)\n",
        "              print(' Y...... ', node_y)\n",
        "              print(' Z........', node_z)\n",
        "              print(' dia ..... ', diam)\n",
        "\n",
        "              images = np.ndarray([3,height,width],dtype=np.float32)\n",
        "              print('images shape ,,,,,,',images.shape)\n",
        "\n",
        "              masks = np.ndarray([3,height,width],dtype=np.uint8)\n",
        "              print('masks dimention,,,,,,',masks.ndim)\n",
        "              \n",
        "              print('ffffffffffff',node_idx)\n",
        "              center = np.array([node_x, node_y, node_z])   # nodule center\n",
        "              print('center', center)\n",
        "\n",
        "              v_center = np.rint((center-origin)/spacing)  # nodule center in voxel space (still x,y,z ordering)\n",
        "              print('v  center', v_center)\n",
        "\n",
        "              for i, i_z in enumerate(np.arange(int(v_center[2])-1,int(v_center[2])+2).clip(0, num_z-1)):     # clip prevents going out of bounds in Z\n",
        "                 \n",
        "                 print(' before make mask ......center', center)\n",
        "                 print(' before make mask ......diameter',diam)\n",
        "                 print(' before make mask ......z ', i_z*spacing[2]+origin[2])\n",
        "                 print(' before make mask ......width', width)\n",
        "                 print(' before make mask ......height', height)\n",
        "                 print(' before make mask ......spacing', spacing[0])\n",
        "                 print(' before make mask ......origin', origin)\n",
        "                 \n",
        "                 \n",
        "                 mask = make_mask(center, diam, i_z*spacing[2]+origin[2],width, height, spacing, origin)\n",
        "                 print ('mask after make mask  .....', mask)\n",
        "                 print('mask after make mask  shape......',mask.shape)\n",
        "                 \n",
        "                 masks[i] = mask\n",
        "\n",
        "                 print ('masks shape .....', masks.shape)\n",
        "\n",
        "                 masks[i] = normalizePlanes(img[i_z])\n",
        "\n",
        "                 print('normq,,,,,,,,',masks[i].shape,masks[i])\n",
        "\n",
        "                 plt.subplot(1,2,1)\n",
        "                 plt.imshow(masks[0,:,:])\n",
        "                 plt.title('Mask')\n",
        "                  \n",
        "                 print('ffffffffffff',node_idx)\n",
        "                 print ('img [i_z] array', img[i_z])\n",
        "\n",
        "\n",
        "                 images[i] = img[i_z]  # img and img[i_z] both are same  \n",
        "\n",
        "                 plt.subplot(1,2,2)\n",
        "                 plt.imshow(images[0,:,:])\n",
        "                 plt.title('Image')\n",
        "\n",
        "                 np.save(os.path.join(out_masks,\"masks_%04d.npy\" % (node_idx)),masks)\n",
        "                 np.save(os.path.join(out_images,\"images_%04d.npy\" % (node_idx)),images)\n",
        "                 \n",
        "\n",
        "       else:\n",
        "          print('Others',filename)\n",
        "         \n",
        "    return images, masks"
      ],
      "execution_count": null,
      "outputs": []
    },
    {
      "cell_type": "code",
      "metadata": {
        "id": "h3rWYYkI0Gd-"
      },
      "source": [
        "\n",
        "# dir='/content/ym/MyDrive/Colab Notebooks/Subject/'\n",
        "\n",
        "\n",
        "b, n = images_with_masks(dir)"
      ],
      "execution_count": null,
      "outputs": []
    },
    {
      "cell_type": "markdown",
      "metadata": {
        "id": "WtfzYJo8jpfP"
      },
      "source": [
        "Load images and masks (both are in .npy format)"
      ]
    },
    {
      "cell_type": "markdown",
      "metadata": {
        "id": "VPDdH1Icj3B1"
      },
      "source": [
        "Images.npy load"
      ]
    },
    {
      "cell_type": "code",
      "metadata": {
        "id": "64qY9Uv_CyIw"
      },
      "source": [
        "r = '/content/ym/MyDrive/Colab Notebooks/Output/Output_images/images_0528.npy'\n",
        "\n",
        "imgs_to_process = np.load(r).astype(np.float64) \n",
        "\n",
        "print('load image from drive(.npy)', imgs_to_process)\n",
        "print(imgs_to_process.shape)\n",
        "\n",
        "img = imgs_to_process[0]\n",
        "\n",
        "print('imgs_to_process[0]',imgs_to_process[0])\n",
        "#Standardize the pixel values\n",
        "mean = np.mean(img)\n",
        "print('mean   ', mean)\n",
        "\n",
        "std = np.std(img)\n",
        "print('std   ', std)\n",
        "\n",
        "img = img-mean\n",
        "img = img/std\n",
        "print('img ...... after mean std  ', img)\n",
        "print('img  shape...... after mean std   ', img.shape)\n",
        "\n",
        "plt.figure(figsize=(8,8))\n",
        "plt.subplot(1,2,1)\n",
        "plt.hist(img.flatten(),bins=200)\n",
        "plt.title('hist')\n",
        "\n",
        "plt.subplot(1,2,2)\n",
        "plt.imshow(img,cmap='gray')\n",
        "plt.title('image')\n",
        "\n"
      ],
      "execution_count": null,
      "outputs": []
    },
    {
      "cell_type": "code",
      "metadata": {
        "id": "DNKZtaVKr35Z"
      },
      "source": [
        "from PIL import Image\n",
        "print(imgs_to_process.shape)\n",
        "#im.save(\"your_file.jpeg\")"
      ],
      "execution_count": null,
      "outputs": []
    }
  ]
}